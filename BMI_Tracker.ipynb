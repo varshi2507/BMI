{
 "cells": [
  {
   "cell_type": "code",
   "execution_count": 3,
   "id": "5e36e5c4",
   "metadata": {},
   "outputs": [],
   "source": [
    "import tkinter as tk\n",
    "from tkinter import messagebox"
   ]
  },
  {
   "cell_type": "code",
   "execution_count": 4,
   "id": "8298775e",
   "metadata": {},
   "outputs": [],
   "source": [
    "def calculate_bmi():\n",
    "    try:\n",
    "        height = float(entry_height.get())\n",
    "        weight = float(entry_weight.get())\n",
    "        if height <= 0 or weight <= 0:\n",
    "            raise ValueError(\"Height and weight must be positive numbers.\")\n",
    "        \n",
    "        bmi = weight / (height * height)\n",
    "        label_result.config(text=f\"Your BMI is: {bmi:.2f}\")\n",
    "    except ValueError as e:\n",
    "        messagebox.showerror(\"Input Error\", str(e))"
   ]
  },
  {
   "cell_type": "code",
   "execution_count": 5,
   "id": "b2065831",
   "metadata": {},
   "outputs": [
    {
     "data": {
      "text/plain": [
       "''"
      ]
     },
     "execution_count": 5,
     "metadata": {},
     "output_type": "execute_result"
    }
   ],
   "source": [
    "root = tk.Tk()\n",
    "root.title(\"BMI Calculator\")"
   ]
  },
  {
   "cell_type": "code",
   "execution_count": 6,
   "id": "39e73c50",
   "metadata": {},
   "outputs": [],
   "source": [
    "label_height = tk.Label(root, text=\"Enter your height (in meters):\")\n",
    "label_height.pack(pady=5)\n",
    "entry_height = tk.Entry(root)\n",
    "entry_height.pack(pady=5)\n",
    "\n",
    "label_weight = tk.Label(root, text=\"Enter your weight (in kilograms):\")\n",
    "label_weight.pack(pady=5)\n",
    "entry_weight = tk.Entry(root)\n",
    "entry_weight.pack(pady=5)"
   ]
  },
  {
   "cell_type": "code",
   "execution_count": 7,
   "id": "2b30d88d",
   "metadata": {},
   "outputs": [],
   "source": [
    "button_calculate = tk.Button(root, text=\"Calculate BMI\", command=calculate_bmi)\n",
    "button_calculate.pack(pady=20)"
   ]
  },
  {
   "cell_type": "code",
   "execution_count": null,
   "id": "a186ad42",
   "metadata": {},
   "outputs": [],
   "source": [
    "label_result = tk.Label(root, text=\"\")\n",
    "label_result.pack(pady=5)\n",
    "root.mainloop()"
   ]
  },
  {
   "cell_type": "code",
   "execution_count": null,
   "id": "a865ee29",
   "metadata": {},
   "outputs": [],
   "source": []
  }
 ],
 "metadata": {
  "kernelspec": {
   "display_name": "Python 3 (ipykernel)",
   "language": "python",
   "name": "python3"
  },
  "language_info": {
   "codemirror_mode": {
    "name": "ipython",
    "version": 3
   },
   "file_extension": ".py",
   "mimetype": "text/x-python",
   "name": "python",
   "nbconvert_exporter": "python",
   "pygments_lexer": "ipython3",
   "version": "3.11.5"
  }
 },
 "nbformat": 4,
 "nbformat_minor": 5
}
